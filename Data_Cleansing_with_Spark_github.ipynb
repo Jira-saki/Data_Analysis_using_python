{
  "nbformat": 4,
  "nbformat_minor": 0,
  "metadata": {
    "colab": {
      "name": "Data Cleansing with Spark-github",
      "provenance": [],
      "collapsed_sections": [],
      "toc_visible": true,
      "include_colab_link": true
    },
    "kernelspec": {
      "name": "python3",
      "display_name": "Python 3"
    }
  },
  "cells": [
    {
      "cell_type": "markdown",
      "metadata": {
        "id": "view-in-github",
        "colab_type": "text"
      },
      "source": [
        "<a href=\"https://colab.research.google.com/github/Jira-saki/Data_Analysis_using_python/blob/main/Data_Cleansing_with_Spark_github.ipynb\" target=\"_parent\"><img src=\"https://colab.research.google.com/assets/colab-badge.svg\" alt=\"Open In Colab\"/></a>"
      ]
    },
    {
      "cell_type": "markdown",
      "metadata": {
        "id": "_SQc75fHqX85"
      },
      "source": [
        "# Data Cleansing with Spark"
      ]
    },
    {
      "cell_type": "markdown",
      "metadata": {
        "id": "nGaAOQ3Yi7PC"
      },
      "source": [
        "## Dataset\n",
        "https://archive.ics.uci.edu/ml/datasets/Online+Retail\n",
        "### Data Dictionary\n",
        "\n",
        "This is a transactional data set which contains all the transactions occurring between 01/12/2018 and 09/12/2019 for a UK-based and registered non-store online retail.\n",
        "\n",
        "The company mainly sells unique all-occasion gifts. Many customers of the company are wholesalers.\n",
        "\n",
        "- InvoiceNo: Invoice number. Nominal, a 6-digit integral number uniquely assigned to each transaction. If this code starts with letter 'c', it indicates a cancellation.\n",
        "- StockCode: Product (item) code. Nominal, a 5-digit integral number uniquely assigned to each distinct product.\n",
        "- Description: Product (item) name. Nominal.\n",
        "- Quantity: The quantities of each product (item) per transaction. Numeric.\n",
        "- InvoiceDate: Invice Date and time. Numeric, the day and time when each transaction was generated.\n",
        "- UnitPrice: Unit price. Numeric, Product price per unit in sterling.\n",
        "- CustomerID: Customer number. Nominal, a 5-digit integral number uniquely assigned to each customer.\n",
        "- Country: Country name. Nominal, the name of the country where each customer resides.\n"
      ]
    },
    {
      "cell_type": "markdown",
      "metadata": {
        "id": "hZ06tCiTn7z9"
      },
      "source": [
        "## Pyspark installation "
      ]
    },
    {
      "cell_type": "code",
      "metadata": {
        "id": "y4Qym1H89mfB"
      },
      "source": [
        "# Install Spark for Google Colab\n",
        "!apt-get update\n",
        "!apt-get install openjdk-8-jdk-headless -qq > /dev/null\n",
        "!wget -q https://archive.apache.org/dist/spark/spark-3.1.2/spark-3.1.2-bin-hadoop2.7.tgz\n",
        "!tar xzvf spark-3.1.2-bin-hadoop2.7.tgz\n",
        "!pip install -q findspark==1.3.0"
      ],
      "execution_count": null,
      "outputs": []
    },
    {
      "cell_type": "code",
      "metadata": {
        "id": "6Dwpn8wv9lgO"
      },
      "source": [
        "# Setting Spark enviroment variable \n",
        "import os\n",
        "os.environ[\"JAVA_HOME\"] = \"/usr/lib/jvm/java-8-openjdk-amd64\"\n",
        "os.environ[\"SPARK_HOME\"] = \"/content/spark-3.1.2-bin-hadoop2.7\""
      ],
      "execution_count": null,
      "outputs": []
    },
    {
      "cell_type": "code",
      "metadata": {
        "id": "qHNIVIS8ygwc"
      },
      "source": [
        "# Installing pyspark \n",
        "!pip install pyspark==3.1.2"
      ],
      "execution_count": null,
      "outputs": []
    },
    {
      "cell_type": "markdown",
      "metadata": {
        "id": "2aX_fiEkrkVo"
      },
      "source": [
        "#### Working with Spark"
      ]
    },
    {
      "cell_type": "code",
      "metadata": {
        "id": "ASZqLPXDPJJB"
      },
      "source": [
        "# Check Google Colab Core Server.\n",
        "!cat /proc/cpuinfo"
      ],
      "execution_count": null,
      "outputs": []
    },
    {
      "cell_type": "code",
      "metadata": {
        "id": "e6-PYi44nH2e"
      },
      "source": [
        "# Building Spark Session\n",
        "from pyspark.sql import SparkSession\n",
        "spark = SparkSession.builder.master(\"local[*]\").getOrCreate()\n",
        "spark.conf.set(\"spark.sql.legacy.timeParserPolicy\", \"legacy\") # code for Spark3 to process like Spark2 (Preventing an Error when using function)"
      ],
      "execution_count": null,
      "outputs": []
    },
    {
      "cell_type": "code",
      "metadata": {
        "id": "c8Fuuh_8ocdw",
        "colab": {
          "base_uri": "https://localhost:8080/"
        },
        "outputId": "d1df5847-1aff-4627-fa68-623b1e6ad2cc"
      },
      "source": [
        "# Get Python version\n",
        "import sys\n",
        "sys.version_info"
      ],
      "execution_count": null,
      "outputs": [
        {
          "output_type": "execute_result",
          "data": {
            "text/plain": [
              "sys.version_info(major=3, minor=7, micro=10, releaselevel='final', serial=0)"
            ]
          },
          "metadata": {
            "tags": []
          },
          "execution_count": 7
        }
      ]
    },
    {
      "cell_type": "code",
      "metadata": {
        "id": "obpcIPP4oOvk",
        "colab": {
          "base_uri": "https://localhost:8080/",
          "height": 35
        },
        "outputId": "c654e8c7-6ccf-4480-de2e-d49f44f72314"
      },
      "source": [
        "# Get Spark version\n",
        "spark.version"
      ],
      "execution_count": null,
      "outputs": [
        {
          "output_type": "execute_result",
          "data": {
            "application/vnd.google.colaboratory.intrinsic+json": {
              "type": "string"
            },
            "text/plain": [
              "'3.1.2'"
            ]
          },
          "metadata": {
            "tags": []
          },
          "execution_count": 8
        }
      ]
    },
    {
      "cell_type": "markdown",
      "metadata": {
        "id": "dzy7awN1orhZ"
      },
      "source": [
        "#### Mounting to Google Drive\n"
      ]
    },
    {
      "cell_type": "code",
      "metadata": {
        "id": "cWqYG_VcoeGF",
        "colab": {
          "base_uri": "https://localhost:8080/"
        },
        "outputId": "919f9e10-18bf-4c6e-e308-c8e4ae795e99"
      },
      "source": [
        "# Mount Google colab with Google Drive\n",
        "from google.colab import drive\n",
        "drive.mount('/content/drive')"
      ],
      "execution_count": null,
      "outputs": [
        {
          "output_type": "stream",
          "text": [
            "Mounted at /content/drive\n"
          ],
          "name": "stdout"
        }
      ]
    },
    {
      "cell_type": "markdown",
      "metadata": {
        "id": "_Pn2zW6xqrtY"
      },
      "source": [
        "## Load data\n",
        "\n",
        "`spark.read.csv` to read CSV file.\n",
        "\n",
        "Arguments to Spark\n",
        "Header = True (First sentence of CSV is Header)\n",
        "Inferschema = True << (Spark will assume schema type of each column. If \"False\", columns will be assumed as string."
      ]
    },
    {
      "cell_type": "code",
      "metadata": {
        "id": "8Ho4MvryoY9u"
      },
      "source": [
        "dt = spark.read.csv('/content/drive/MyDrive/Online Retail WS2 (1).csv', header = True, inferSchema = True, )"
      ],
      "execution_count": null,
      "outputs": []
    },
    {
      "cell_type": "markdown",
      "metadata": {
        "id": "gKBjHvpzTM6-"
      },
      "source": [
        "### Data Profiling"
      ]
    },
    {
      "cell_type": "markdown",
      "metadata": {
        "id": "ruTiAh69nkWT"
      },
      "source": [
        "Data Profiling is a process of analysing summary of the data.\n",
        "\n",
        "Example: max, min, average, sum, how many missing values etc.\n",
        "\n",
        "#### Data\n",
        "\n",
        "> Columns\n",
        "- InvoiceNo\n",
        "- StockCode\n",
        "- Description\n",
        "- Quantity\n",
        "- InvoiceDate\n",
        "- UnitPrice\n",
        "- CustomerID\n",
        "- Country"
      ]
    },
    {
      "cell_type": "code",
      "metadata": {
        "id": "qpb7PcpSrOWe",
        "colab": {
          "base_uri": "https://localhost:8080/"
        },
        "outputId": "57dbf1e6-6679-4f12-8678-ad492dde659d"
      },
      "source": [
        "dt"
      ],
      "execution_count": null,
      "outputs": [
        {
          "output_type": "execute_result",
          "data": {
            "text/plain": [
              "DataFrame[InvoiceNo: string, StockCode: string, Description: string, Quantity: int, InvoiceDate: string, UnitPrice: double, CustomerID: double, Country: string]"
            ]
          },
          "metadata": {
            "tags": []
          },
          "execution_count": 11
        }
      ]
    },
    {
      "cell_type": "code",
      "metadata": {
        "id": "7rEzUAWCS3Gd"
      },
      "source": [
        "dt.show()"
      ],
      "execution_count": null,
      "outputs": []
    },
    {
      "cell_type": "code",
      "metadata": {
        "id": "XOgygtSZUenr",
        "colab": {
          "base_uri": "https://localhost:8080/"
        },
        "outputId": "5218b3da-c06a-418c-8c1f-cd9b7a1f2e8c"
      },
      "source": [
        "dt.show(100)"
      ],
      "execution_count": null,
      "outputs": [
        {
          "output_type": "stream",
          "text": [
            "+---------+---------+--------------------+--------+---------------+---------+----------+--------------+\n",
            "|InvoiceNo|StockCode|         Description|Quantity|    InvoiceDate|UnitPrice|CustomerID|       Country|\n",
            "+---------+---------+--------------------+--------+---------------+---------+----------+--------------+\n",
            "|   536365|   85123A|WHITE HANGING HEA...|       6|1/12/2018 08:26|     2.55|   17850.0|United Kingdom|\n",
            "|   536365|    71053| WHITE METAL LANTERN|       6|1/12/2018 08:26|     3.39|   17850.0|United Kingdom|\n",
            "|   536365|   84406B|CREAM CUPID HEART...|       8|1/12/2018 08:26|     2.75|   17850.0|United Kingdom|\n",
            "|   536365|   84029G|KNITTED UNION FLA...|       6|1/12/2018 08:26|     3.39|   17850.0|United Kingdom|\n",
            "|   536365|   84029E|RED WOOLLY HOTTIE...|       6|1/12/2018 08:26|     3.39|   17850.0|United Kingdom|\n",
            "|   536365|    22752|SET 7 BABUSHKA NE...|       2|1/12/2018 08:26|     7.65|   17850.0|United Kingdom|\n",
            "|   536365|    21730|GLASS STAR FROSTE...|       6|1/12/2018 08:26|     4.25|   17850.0|United Kingdom|\n",
            "|   536366|    22633|HAND WARMER UNION...|       6|1/12/2018 08:28|     1.85|   17850.0|United Kingdom|\n",
            "|   536366|    22632|HAND WARMER RED P...|       6|1/12/2018 08:28|     1.85|   17850.0|United Kingdom|\n",
            "|   536367|    84879|ASSORTED COLOUR B...|      32|1/12/2018 08:34|     1.69|   13047.0|United Kingdom|\n",
            "|   536367|    22745|POPPY'S PLAYHOUSE...|       6|1/12/2018 08:34|      2.1|   13047.0|United Kingdom|\n",
            "|   536367|    22748|POPPY'S PLAYHOUSE...|       6|1/12/2018 08:34|      2.1|   13047.0|United Kingdom|\n",
            "|   536367|    22749|FELTCRAFT PRINCES...|       8|1/12/2018 08:34|     3.75|   13047.0|United Kingdom|\n",
            "|   536367|    22310|IVORY KNITTED MUG...|       6|1/12/2018 08:34|     1.65|   13047.0|United Kingdom|\n",
            "|   536367|    84969|BOX OF 6 ASSORTED...|       6|1/12/2018 08:34|     4.25|   13047.0|United Kingdom|\n",
            "|   536367|    22623|BOX OF VINTAGE JI...|       3|1/12/2018 08:34|     4.95|   13047.0|United Kingdom|\n",
            "|   536367|    22622|BOX OF VINTAGE AL...|       2|1/12/2018 08:34|     9.95|   13047.0|United Kingdom|\n",
            "|   536367|    21754|HOME BUILDING BLO...|       3|1/12/2018 08:34|     5.95|   13047.0|United Kingdom|\n",
            "|   536367|    21755|LOVE BUILDING BLO...|       3|1/12/2018 08:34|     5.95|   13047.0|United Kingdom|\n",
            "|   536367|    21777|RECIPE BOX WITH M...|       4|1/12/2018 08:34|     7.95|   13047.0|United Kingdom|\n",
            "|   536367|    48187| DOORMAT NEW ENGLAND|       4|1/12/2018 08:34|     7.95|   13047.0|United Kingdom|\n",
            "|   536368|    22960|JAM MAKING SET WI...|       6|1/12/2018 08:34|     4.25|   13047.0|United Kingdom|\n",
            "|   536368|    22913|RED COAT RACK PAR...|       3|1/12/2018 08:34|     4.95|   13047.0|United Kingdom|\n",
            "|   536368|    22912|YELLOW COAT RACK ...|       3|1/12/2018 08:34|     4.95|   13047.0|United Kingdom|\n",
            "|   536368|    22914|BLUE COAT RACK PA...|       3|1/12/2018 08:34|     4.95|   13047.0|United Kingdom|\n",
            "|   536369|    21756|BATH BUILDING BLO...|       3|1/12/2018 08:35|     5.95|   13047.0|United Kingdom|\n",
            "|   536370|    22728|ALARM CLOCK BAKEL...|      24|1/12/2018 08:45|     3.75|   12583.0|        France|\n",
            "|   536370|    22727|ALARM CLOCK BAKEL...|      24|1/12/2018 08:45|     3.75|   12583.0|        France|\n",
            "|   536370|    22726|ALARM CLOCK BAKEL...|      12|1/12/2018 08:45|     3.75|   12583.0|        France|\n",
            "|   536370|    21724|PANDA AND BUNNIES...|      12|1/12/2018 08:45|     0.85|   12583.0|        France|\n",
            "|   536370|    21883|    STARS GIFT TAPE |      24|1/12/2018 08:45|     0.65|   12583.0|        France|\n",
            "|   536370|    10002|INFLATABLE POLITI...|      48|1/12/2018 08:45|     0.85|   12583.0|        France|\n",
            "|   536370|    21791|VINTAGE HEADS AND...|      24|1/12/2018 08:45|     1.25|   12583.0|        France|\n",
            "|   536370|    21035|SET/2 RED RETROSP...|      18|1/12/2018 08:45|     2.95|   12583.0|        France|\n",
            "|   536370|    22326|ROUND SNACK BOXES...|      24|1/12/2018 08:45|     2.95|   12583.0|        France|\n",
            "|   536370|    22629| SPACEBOY LUNCH BOX |      24|1/12/2018 08:45|     1.95|   12583.0|        France|\n",
            "|   536370|    22659|LUNCH BOX I LOVE ...|      24|1/12/2018 08:45|     1.95|   12583.0|        France|\n",
            "|   536370|    22631|CIRCUS PARADE LUN...|      24|1/12/2018 08:45|     1.95|   12583.0|        France|\n",
            "|   536370|    22661|CHARLOTTE BAG DOL...|      20|1/12/2018 08:45|     0.85|   12583.0|        France|\n",
            "|   536370|    21731|RED TOADSTOOL LED...|      24|1/12/2018 08:45|     1.65|   12583.0|        France|\n",
            "|   536370|    22900| SET 2 TEA TOWELS...|      24|1/12/2018 08:45|     2.95|   12583.0|        France|\n",
            "|   536370|    21913|VINTAGE SEASIDE J...|      12|1/12/2018 08:45|     3.75|   12583.0|        France|\n",
            "|   536370|    22540|MINI JIGSAW CIRCU...|      24|1/12/2018 08:45|     0.42|   12583.0|        France|\n",
            "|   536370|    22544|MINI JIGSAW SPACEBOY|      24|1/12/2018 08:45|     0.42|   12583.0|        France|\n",
            "|   536370|    22492|MINI PAINT SET VI...|      36|1/12/2018 08:45|     0.65|   12583.0|        France|\n",
            "|   536370|     POST|             POSTAGE|       3|1/12/2018 08:45|     18.0|   12583.0|        France|\n",
            "|   536371|    22086|PAPER CHAIN KIT 5...|      80|1/12/2018 09:00|     2.55|   13748.0|United Kingdom|\n",
            "|   536372|    22632|HAND WARMER RED P...|       6|1/12/2018 09:01|     1.85|   17850.0|United Kingdom|\n",
            "|   536372|    22633|HAND WARMER UNION...|       6|1/12/2018 09:01|     1.85|   17850.0|United Kingdom|\n",
            "|   536373|   85123A|WHITE HANGING HEA...|       6|1/12/2018 09:02|     2.55|   17850.0|United Kingdom|\n",
            "|   536373|    71053| WHITE METAL LANTERN|       6|1/12/2018 09:02|     3.39|   17850.0|United Kingdom|\n",
            "|   536373|   84406B|CREAM CUPID HEART...|       8|1/12/2018 09:02|     2.75|   17850.0|United Kingdom|\n",
            "|   536373|    20679|EDWARDIAN PARASOL...|       6|1/12/2018 09:02|     4.95|   17850.0|United Kingdom|\n",
            "|   536373|    37370|RETRO COFFEE MUGS...|       6|1/12/2018 09:02|     1.06|   17850.0|United Kingdom|\n",
            "|   536373|    21871| SAVE THE PLANET MUG|       6|1/12/2018 09:02|     1.06|   17850.0|United Kingdom|\n",
            "|   536373|    21071|VINTAGE BILLBOARD...|       6|1/12/2018 09:02|     1.06|   17850.0|United Kingdom|\n",
            "|   536373|    21068|VINTAGE BILLBOARD...|       6|1/12/2018 09:02|     1.06|   17850.0|United Kingdom|\n",
            "|   536373|    82483|WOOD 2 DRAWER CAB...|       2|1/12/2018 09:02|     4.95|   17850.0|United Kingdom|\n",
            "|   536373|    82486|WOOD S/3 CABINET ...|       4|1/12/2018 09:02|     6.95|   17850.0|United Kingdom|\n",
            "|   536373|    82482|WOODEN PICTURE FR...|       6|1/12/2018 09:02|      2.1|   17850.0|United Kingdom|\n",
            "|   536373|   82494L|WOODEN FRAME ANTI...|       6|1/12/2018 09:02|     2.55|   17850.0|United Kingdom|\n",
            "|   536373|   84029G|KNITTED UNION FLA...|       6|1/12/2018 09:02|     3.39|   17850.0|United Kingdom|\n",
            "|   536373|   84029E|RED WOOLLY HOTTIE...|       6|1/12/2018 09:02|     3.39|   17850.0|United Kingdom|\n",
            "|   536373|    22752|SET 7 BABUSHKA NE...|       2|1/12/2018 09:02|     7.65|   17850.0|United Kingdom|\n",
            "|   536373|    21730|GLASS STAR FROSTE...|       6|1/12/2018 09:02|     4.25|   17850.0|United Kingdom|\n",
            "|   536374|    21258|VICTORIAN SEWING ...|      32|1/12/2018 09:09|    10.95|   15100.0|United Kingdom|\n",
            "|   536375|   85123A|WHITE HANGING HEA...|       6|1/12/2018 09:32|     2.55|   17850.0|United Kingdom|\n",
            "|   536375|    71053| WHITE METAL LANTERN|       6|1/12/2018 09:32|     3.39|   17850.0|United Kingdom|\n",
            "|   536375|   84406B|CREAM CUPID HEART...|       8|1/12/2018 09:32|     2.75|   17850.0|United Kingdom|\n",
            "|   536375|    20679|EDWARDIAN PARASOL...|       6|1/12/2018 09:32|     4.95|   17850.0|United Kingdom|\n",
            "|   536375|    37370|RETRO COFFEE MUGS...|       6|1/12/2018 09:32|     1.06|   17850.0|United Kingdom|\n",
            "|   536375|    21871| SAVE THE PLANET MUG|       6|1/12/2018 09:32|     1.06|   17850.0|United Kingdom|\n",
            "|   536375|    21071|VINTAGE BILLBOARD...|       6|1/12/2018 09:32|     1.06|   17850.0|United Kingdom|\n",
            "|   536375|    21068|VINTAGE BILLBOARD...|       6|1/12/2018 09:32|     1.06|   17850.0|United Kingdom|\n",
            "|   536375|    82483|WOOD 2 DRAWER CAB...|       2|1/12/2018 09:32|     4.95|   17850.0|United Kingdom|\n",
            "|   536375|    82486|WOOD S/3 CABINET ...|       4|1/12/2018 09:32|     6.95|   17850.0|United Kingdom|\n",
            "|   536375|    82482|WOODEN PICTURE FR...|       6|1/12/2018 09:32|      2.1|   17850.0|United Kingdom|\n",
            "|   536375|   82494L|WOODEN FRAME ANTI...|       6|1/12/2018 09:32|     2.55|   17850.0|United Kingdom|\n",
            "|   536375|   84029G|KNITTED UNION FLA...|       6|1/12/2018 09:32|     3.39|   17850.0|United Kingdom|\n",
            "|   536375|   84029E|RED WOOLLY HOTTIE...|       6|1/12/2018 09:32|     3.39|   17850.0|United Kingdom|\n",
            "|   536375|    22752|SET 7 BABUSHKA NE...|       2|1/12/2018 09:32|     7.65|   17850.0|United Kingdom|\n",
            "|   536375|    21730|GLASS STAR FROSTE...|       6|1/12/2018 09:32|     4.25|   17850.0|United Kingdom|\n",
            "|   536376|    22114|HOT WATER BOTTLE ...|      48|1/12/2018 09:32|     3.45|   15291.0|United Kingdom|\n",
            "|   536376|    21733|RED HANGING HEART...|      64|1/12/2018 09:32|     2.55|   15291.0|United Kingdom|\n",
            "|   536377|    22632|HAND WARMER RED P...|       6|1/12/2018 09:34|     1.85|   17850.0|United Kingdom|\n",
            "|   536377|    22633|HAND WARMER UNION...|       6|1/12/2018 09:34|     1.85|   17850.0|United Kingdom|\n",
            "|   536378|    22386|JUMBO BAG PINK PO...|      10|1/12/2018 09:37|     1.95|   14688.0|United Kingdom|\n",
            "|   536378|   85099C|JUMBO  BAG BAROQU...|      10|1/12/2018 09:37|     1.95|   14688.0|United Kingdom|\n",
            "|   536378|    21033|JUMBO BAG CHARLIE...|      10|1/12/2018 09:37|     2.95|   14688.0|United Kingdom|\n",
            "|   536378|    20723|STRAWBERRY CHARLO...|      10|1/12/2018 09:37|     0.85|   14688.0|United Kingdom|\n",
            "|   536378|   84997B|RED 3 PIECE RETRO...|      12|1/12/2018 09:37|     3.75|   14688.0|United Kingdom|\n",
            "|   536378|   84997C|BLUE 3 PIECE POLK...|       6|1/12/2018 09:37|     3.75|   14688.0|United Kingdom|\n",
            "|   536378|    21094|SET/6 RED SPOTTY ...|      12|1/12/2018 09:37|     0.85|   14688.0|United Kingdom|\n",
            "|   536378|    20725|LUNCH BAG RED RET...|      10|1/12/2018 09:37|     1.65|   14688.0|United Kingdom|\n",
            "|   536378|    21559|STRAWBERRY LUNCH ...|       6|1/12/2018 09:37|     2.55|   14688.0|United Kingdom|\n",
            "|   536378|    22352|LUNCH BOX WITH CU...|       6|1/12/2018 09:37|     2.55|   14688.0|United Kingdom|\n",
            "|   536378|    21212|PACK OF 72 RETROS...|     120|1/12/2018 09:37|     0.42|   14688.0|United Kingdom|\n",
            "|   536378|    21975|PACK OF 60 DINOSA...|      24|1/12/2018 09:37|     0.55|   14688.0|United Kingdom|\n",
            "|   536378|    21977|PACK OF 60 PINK P...|      24|1/12/2018 09:37|     0.55|   14688.0|United Kingdom|\n",
            "|   536378|    84991|60 TEATIME FAIRY ...|      24|1/12/2018 09:37|     0.55|   14688.0|United Kingdom|\n",
            "+---------+---------+--------------------+--------+---------------+---------+----------+--------------+\n",
            "only showing top 100 rows\n",
            "\n"
          ],
          "name": "stdout"
        }
      ]
    },
    {
      "cell_type": "code",
      "metadata": {
        "id": "-hfU4p2sCuef",
        "colab": {
          "base_uri": "https://localhost:8080/"
        },
        "outputId": "c1b42e8b-bb59-4b3b-c585-b4e5cb976b25"
      },
      "source": [
        "# Show Schema\n",
        "dt.dtypes"
      ],
      "execution_count": null,
      "outputs": [
        {
          "output_type": "execute_result",
          "data": {
            "text/plain": [
              "[('InvoiceNo', 'string'),\n",
              " ('StockCode', 'string'),\n",
              " ('Description', 'string'),\n",
              " ('Quantity', 'int'),\n",
              " ('InvoiceDate', 'string'),\n",
              " ('UnitPrice', 'double'),\n",
              " ('CustomerID', 'double'),\n",
              " ('Country', 'string')]"
            ]
          },
          "metadata": {
            "tags": []
          },
          "execution_count": 14
        }
      ]
    },
    {
      "cell_type": "code",
      "metadata": {
        "id": "Er9ltLyoCJxo",
        "colab": {
          "base_uri": "https://localhost:8080/"
        },
        "outputId": "9809deb7-f4ac-4c02-9427-5d53755f813b"
      },
      "source": [
        "# Show Schema with nullable\n",
        "dt.printSchema()"
      ],
      "execution_count": null,
      "outputs": [
        {
          "output_type": "stream",
          "text": [
            "root\n",
            " |-- InvoiceNo: string (nullable = true)\n",
            " |-- StockCode: string (nullable = true)\n",
            " |-- Description: string (nullable = true)\n",
            " |-- Quantity: integer (nullable = true)\n",
            " |-- InvoiceDate: string (nullable = true)\n",
            " |-- UnitPrice: double (nullable = true)\n",
            " |-- CustomerID: double (nullable = true)\n",
            " |-- Country: string (nullable = true)\n",
            "\n"
          ],
          "name": "stdout"
        }
      ]
    },
    {
      "cell_type": "code",
      "metadata": {
        "id": "brQdwlRpCVSi",
        "colab": {
          "base_uri": "https://localhost:8080/"
        },
        "outputId": "54b3d991-bb7d-4af5-c92d-ddccb9e890ca"
      },
      "source": [
        "# Count columns\n",
        "print((dt.count(), len(dt.columns)))"
      ],
      "execution_count": null,
      "outputs": [
        {
          "output_type": "stream",
          "text": [
            "(541909, 8)\n"
          ],
          "name": "stdout"
        }
      ]
    },
    {
      "cell_type": "code",
      "metadata": {
        "id": "hZ9V4iQKUi2i",
        "colab": {
          "base_uri": "https://localhost:8080/"
        },
        "outputId": "b864ddef-1bbf-40a7-c81e-3ffc6b847be4"
      },
      "source": [
        "# Statistic Summary\n",
        "dt.describe().show()"
      ],
      "execution_count": null,
      "outputs": [
        {
          "output_type": "stream",
          "text": [
            "+-------+------------------+------------------+--------------------+------------------+---------------+-----------------+------------------+-----------+\n",
            "|summary|         InvoiceNo|         StockCode|         Description|          Quantity|    InvoiceDate|        UnitPrice|        CustomerID|    Country|\n",
            "+-------+------------------+------------------+--------------------+------------------+---------------+-----------------+------------------+-----------+\n",
            "|  count|            541909|            541909|              540455|            541909|         541909|           541909|            406829|     541909|\n",
            "|   mean|  559965.752026781|27623.240210938104|             20713.0|  9.55224954743324|           null|4.611113626082972|15287.690570239585|       null|\n",
            "| stddev|13428.417280805186| 16799.73762842771|                null|218.08115785023477|           null|96.75985306117933|1713.6003033215918|       null|\n",
            "|    min|            536365|             10002| 4 PURPLE FLOCK D...|            -80995|1/11/2019 08:16|        -11062.06|           12346.0|  Australia|\n",
            "|    max|           C581569|                 m|   wrongly sold sets|             80995| 9/9/2019 17:52|          38970.0|           18287.0|Unspecified|\n",
            "+-------+------------------+------------------+--------------------+------------------+---------------+-----------------+------------------+-----------+\n",
            "\n"
          ],
          "name": "stdout"
        }
      ]
    },
    {
      "cell_type": "code",
      "metadata": {
        "id": "DJ7xtdKgVvKO",
        "colab": {
          "base_uri": "https://localhost:8080/"
        },
        "outputId": "66247dd5-5304-44cb-9408-d75b137e8753"
      },
      "source": [
        "# Statistic Summary\n",
        "dt.summary().show()"
      ],
      "execution_count": null,
      "outputs": [
        {
          "output_type": "stream",
          "text": [
            "+-------+------------------+------------------+--------------------+------------------+---------------+-----------------+------------------+-----------+\n",
            "|summary|         InvoiceNo|         StockCode|         Description|          Quantity|    InvoiceDate|        UnitPrice|        CustomerID|    Country|\n",
            "+-------+------------------+------------------+--------------------+------------------+---------------+-----------------+------------------+-----------+\n",
            "|  count|            541909|            541909|              540455|            541909|         541909|           541909|            406829|     541909|\n",
            "|   mean|  559965.752026781|27623.240210938104|             20713.0|  9.55224954743324|           null|4.611113626082972|15287.690570239585|       null|\n",
            "| stddev|13428.417280805186| 16799.73762842771|                null|218.08115785023477|           null|96.75985306117933|1713.6003033215918|       null|\n",
            "|    min|            536365|             10002| 4 PURPLE FLOCK D...|            -80995|1/11/2019 08:16|        -11062.06|           12346.0|  Australia|\n",
            "|    25%|          547903.0|           21929.0|             20713.0|                 1|           null|             1.25|           13953.0|       null|\n",
            "|    50%|          560686.0|           22569.0|             20713.0|                 3|           null|             2.08|           15152.0|       null|\n",
            "|    75%|          571841.0|           23165.0|             20713.0|                10|           null|             4.13|           16791.0|       null|\n",
            "|    max|           C581569|                 m|   wrongly sold sets|             80995| 9/9/2019 17:52|          38970.0|           18287.0|Unspecified|\n",
            "+-------+------------------+------------------+--------------------+------------------+---------------+-----------------+------------------+-----------+\n",
            "\n"
          ],
          "name": "stdout"
        }
      ]
    },
    {
      "cell_type": "code",
      "metadata": {
        "id": "LBmjzCqjM_MR",
        "colab": {
          "base_uri": "https://localhost:8080/"
        },
        "outputId": "9ea2cf81-f150-4b7e-bb07-b2c39abfde47"
      },
      "source": [
        "#Statistic Summary for specific column ท\n",
        "dt.select(\"Quantity\", \"UnitPrice\").describe().show()"
      ],
      "execution_count": null,
      "outputs": [
        {
          "output_type": "stream",
          "text": [
            "+-------+------------------+-----------------+\n",
            "|summary|          Quantity|        UnitPrice|\n",
            "+-------+------------------+-----------------+\n",
            "|  count|            541909|           541909|\n",
            "|   mean|  9.55224954743324|4.611113626082972|\n",
            "| stddev|218.08115785023477|96.75985306117933|\n",
            "|    min|            -80995|        -11062.06|\n",
            "|    max|             80995|          38970.0|\n",
            "+-------+------------------+-----------------+\n",
            "\n"
          ],
          "name": "stdout"
        }
      ]
    },
    {
      "cell_type": "markdown",
      "metadata": {
        "id": "mXLwFlXdWNmI"
      },
      "source": [
        "### Median of Quantity"
      ]
    },
    {
      "cell_type": "code",
      "metadata": {
        "id": "w9h9CY1XWKf3",
        "colab": {
          "base_uri": "https://localhost:8080/"
        },
        "outputId": "768fe70c-1816-478d-9dd4-9a97272a4d8f"
      },
      "source": [
        "#dt.select(\"Quantity\").summary().show()\n",
        "dt.select(\"Quantity\").summary().collect()[5]"
      ],
      "execution_count": null,
      "outputs": [
        {
          "output_type": "execute_result",
          "data": {
            "text/plain": [
              "Row(summary='50%', Quantity='3')"
            ]
          },
          "metadata": {
            "tags": []
          },
          "execution_count": 25
        }
      ]
    },
    {
      "cell_type": "markdown",
      "metadata": {
        "id": "qe1VrTpETgar"
      },
      "source": [
        "## EDA - Exploratory Data Analysis"
      ]
    },
    {
      "cell_type": "markdown",
      "metadata": {
        "id": "LRmig4MaQm2s"
      },
      "source": [
        "## Non-Graphical EDA"
      ]
    },
    {
      "cell_type": "code",
      "metadata": {
        "id": "AGkcJ3kDQmJ5",
        "colab": {
          "base_uri": "https://localhost:8080/",
          "height": 181
        },
        "outputId": "c49dc12e-458d-4fe3-ccff-a584daf2f099"
      },
      "source": [
        "# Select text-based information\n",
        "dt.where(dt['Quantity'] < 0).show()"
      ],
      "execution_count": 2,
      "outputs": [
        {
          "output_type": "error",
          "ename": "NameError",
          "evalue": "ignored",
          "traceback": [
            "\u001b[0;31m---------------------------------------------------------------------------\u001b[0m",
            "\u001b[0;31mNameError\u001b[0m                                 Traceback (most recent call last)",
            "\u001b[0;32m<ipython-input-2-4b7cda638bf2>\u001b[0m in \u001b[0;36m<module>\u001b[0;34m()\u001b[0m\n\u001b[1;32m      1\u001b[0m \u001b[0;31m# Select text-based information\u001b[0m\u001b[0;34m\u001b[0m\u001b[0;34m\u001b[0m\u001b[0;34m\u001b[0m\u001b[0m\n\u001b[0;32m----> 2\u001b[0;31m \u001b[0mdt\u001b[0m\u001b[0;34m.\u001b[0m\u001b[0mwhere\u001b[0m\u001b[0;34m(\u001b[0m\u001b[0mdt\u001b[0m\u001b[0;34m[\u001b[0m\u001b[0;34m'Quantity'\u001b[0m\u001b[0;34m]\u001b[0m \u001b[0;34m<\u001b[0m \u001b[0;36m0\u001b[0m\u001b[0;34m)\u001b[0m\u001b[0;34m.\u001b[0m\u001b[0mshow\u001b[0m\u001b[0;34m(\u001b[0m\u001b[0;34m)\u001b[0m\u001b[0;34m\u001b[0m\u001b[0;34m\u001b[0m\u001b[0m\n\u001b[0m",
            "\u001b[0;31mNameError\u001b[0m: name 'dt' is not defined"
          ]
        }
      ]
    },
    {
      "cell_type": "markdown",
      "metadata": {
        "id": "TOnfZz27XhjX"
      },
      "source": [
        "### Assumption \n",
        "1. Find Quantity of 50 - 120\n",
        "2. Find UnitPrice of 0.1 - 0.5\n",
        "3. Quantity 50 - 120 ,UnitPrice  0.1 - 0.5"
      ]
    },
    {
      "cell_type": "code",
      "metadata": {
        "id": "G2-Ot31WX2uc",
        "colab": {
          "base_uri": "https://localhost:8080/",
          "height": 181
        },
        "outputId": "ccf3902d-43dd-40b4-d66f-920d9662c97d"
      },
      "source": [
        "#  Quantity 50 - 120\n",
        "dt.where( (dt['Quantity'] > 50) & (dt['Quantity'] < 120) ).show()"
      ],
      "execution_count": 3,
      "outputs": [
        {
          "output_type": "error",
          "ename": "NameError",
          "evalue": "ignored",
          "traceback": [
            "\u001b[0;31m---------------------------------------------------------------------------\u001b[0m",
            "\u001b[0;31mNameError\u001b[0m                                 Traceback (most recent call last)",
            "\u001b[0;32m<ipython-input-3-33c7d404a60d>\u001b[0m in \u001b[0;36m<module>\u001b[0;34m()\u001b[0m\n\u001b[1;32m      1\u001b[0m \u001b[0;31m#  Quantity 50 - 120\u001b[0m\u001b[0;34m\u001b[0m\u001b[0;34m\u001b[0m\u001b[0;34m\u001b[0m\u001b[0m\n\u001b[0;32m----> 2\u001b[0;31m \u001b[0mdt\u001b[0m\u001b[0;34m.\u001b[0m\u001b[0mwhere\u001b[0m\u001b[0;34m(\u001b[0m \u001b[0;34m(\u001b[0m\u001b[0mdt\u001b[0m\u001b[0;34m[\u001b[0m\u001b[0;34m'Quantity'\u001b[0m\u001b[0;34m]\u001b[0m \u001b[0;34m>\u001b[0m \u001b[0;36m50\u001b[0m\u001b[0;34m)\u001b[0m \u001b[0;34m&\u001b[0m \u001b[0;34m(\u001b[0m\u001b[0mdt\u001b[0m\u001b[0;34m[\u001b[0m\u001b[0;34m'Quantity'\u001b[0m\u001b[0;34m]\u001b[0m \u001b[0;34m<\u001b[0m \u001b[0;36m120\u001b[0m\u001b[0;34m)\u001b[0m \u001b[0;34m)\u001b[0m\u001b[0;34m.\u001b[0m\u001b[0mshow\u001b[0m\u001b[0;34m(\u001b[0m\u001b[0;34m)\u001b[0m\u001b[0;34m\u001b[0m\u001b[0;34m\u001b[0m\u001b[0m\n\u001b[0m",
            "\u001b[0;31mNameError\u001b[0m: name 'dt' is not defined"
          ]
        }
      ]
    },
    {
      "cell_type": "code",
      "metadata": {
        "id": "wWZ8SRUOX2qJ"
      },
      "source": [
        "#UnitPrice 0.1 - 0.5\n",
        "dt.where( (dt['Unitprice'] >= 0.1) & (dt['Unitprice'] <= 0.5) ).show()"
      ],
      "execution_count": null,
      "outputs": []
    },
    {
      "cell_type": "code",
      "metadata": {
        "id": "zgPm8dsraxNx"
      },
      "source": [
        "# Quantity 50 - 120 and UnitPrice 0.1 - 0.5\n",
        "dt.where( dt[\"Quantity\"]. between(50,120) & dt [\"Unitprice\"]. between(0.1,0.5) ).show()"
      ],
      "execution_count": null,
      "outputs": []
    },
    {
      "cell_type": "markdown",
      "metadata": {
        "id": "NN3m9gpHkS5H"
      },
      "source": [
        "### Graphical EDA\n",
        "\n",
        "\n",
        "Importing packages seaborn, matplotlib, pandas for graph visualisation."
      ]
    },
    {
      "cell_type": "code",
      "metadata": {
        "id": "BWu_zxdONk0o"
      },
      "source": [
        "import seaborn as sns\n",
        "import matplotlib.pyplot as plt\n",
        "import pandas as pd"
      ],
      "execution_count": null,
      "outputs": []
    },
    {
      "cell_type": "code",
      "metadata": {
        "id": "861ui21dNy-N"
      },
      "source": [
        "# Convert Spark Dataframe to Pandas Dataframe\n",
        "dt_pd = dt.toPandas()"
      ],
      "execution_count": null,
      "outputs": []
    },
    {
      "cell_type": "code",
      "metadata": {
        "id": "vpF73lu_Rn-_"
      },
      "source": [
        "dt_pd.head()"
      ],
      "execution_count": null,
      "outputs": []
    },
    {
      "cell_type": "code",
      "metadata": {
        "id": "pcU3qZB2RjUp"
      },
      "source": [
        "# Select 500 rows for data visualise.\n",
        "dt_pd_subset = dt_pd[0:500]"
      ],
      "execution_count": null,
      "outputs": []
    },
    {
      "cell_type": "code",
      "metadata": {
        "id": "hBv0DP4YOAQF"
      },
      "source": [
        "# Boxplot\n",
        "sns.boxplot(dt_pd_subset['UnitPrice'])"
      ],
      "execution_count": null,
      "outputs": []
    },
    {
      "cell_type": "code",
      "metadata": {
        "id": "IYbSz2HuO2sr"
      },
      "source": [
        "# Histogram *distplot= distribution plot\n",
        "sns.distplot(dt_pd_subset['UnitPrice']) \n",
        "plt.show()"
      ],
      "execution_count": null,
      "outputs": []
    },
    {
      "cell_type": "code",
      "metadata": {
        "id": "t1N-03d9O83E"
      },
      "source": [
        "# Scatterplot to see the contrast.\n",
        "dt_pd_subset.plot.scatter('UnitPrice', 'Quantity')"
      ],
      "execution_count": null,
      "outputs": []
    },
    {
      "cell_type": "markdown",
      "metadata": {
        "id": "tVliQZLC0LuP"
      },
      "source": [
        "#### Interactive chart"
      ]
    },
    {
      "cell_type": "code",
      "metadata": {
        "id": "4Bb0F-9zTI1X"
      },
      "source": [
        "# Plotly - interactive chart\n",
        "import plotly.express as px\n",
        "fig = px.scatter(dt_pd_subset, 'UnitPrice', 'Quantity')\n",
        "fig.show()"
      ],
      "execution_count": null,
      "outputs": []
    },
    {
      "cell_type": "markdown",
      "metadata": {
        "id": "iXLHVsbwk08q"
      },
      "source": [
        "### Type Conversion\n",
        "\n",
        "Convert `InvoiceDate` from string -> date"
      ]
    },
    {
      "cell_type": "code",
      "metadata": {
        "id": "Pb7BB-e3k4g-"
      },
      "source": [
        "# Show top 5 rows\n",
        "dt.show(5)"
      ],
      "execution_count": null,
      "outputs": []
    },
    {
      "cell_type": "code",
      "metadata": {
        "id": "f7gFtSr0Fbne"
      },
      "source": [
        "# Show Schema\n",
        "dt.printSchema()"
      ],
      "execution_count": null,
      "outputs": []
    },
    {
      "cell_type": "markdown",
      "metadata": {
        "id": "pNVwy-FkHDrT"
      },
      "source": [
        "Is the date DD/MM/YYYY or MM/DD/YYYY? Let's find out\n",
        "\n"
      ]
    },
    {
      "cell_type": "code",
      "metadata": {
        "id": "Hu6po7nVGhj6"
      },
      "source": [
        "# Show unique Invoice Date\n",
        "dt.select(\"InvoiceDate\").distinct().show()"
      ],
      "execution_count": null,
      "outputs": []
    },
    {
      "cell_type": "code",
      "metadata": {
        "id": "rnerFBErFelC"
      },
      "source": [
        "# Convert string to date  with new column using  df.withColumn()\n",
        "from pyspark.sql import functions as f\n",
        "\n",
        "# dt_temp = dt.withColumn('InvoiceDateTime', functions.to_date(\n",
        "#     functions.unix_timestamp('InvoiceDate', 'dd/MM/yyyy HH:mm').cast('timestamp')\n",
        "# ))\n",
        "\n",
        "dt_temp = dt.withColumn('InvoiceDateTime', \n",
        "    f.unix_timestamp('InvoiceDate', 'dd/MM/yyyy HH:mm').cast('timestamp')\n",
        ")\n",
        "dt_temp.show()"
      ],
      "execution_count": null,
      "outputs": []
    },
    {
      "cell_type": "code",
      "metadata": {
        "id": "Pq7sQ-h6T6cp"
      },
      "source": [
        "dt_temp.printSchema()"
      ],
      "execution_count": null,
      "outputs": []
    },
    {
      "cell_type": "code",
      "metadata": {
        "id": "SrntLk52LN1Q"
      },
      "source": [
        "dt_final = dt_temp.drop('InvoiceDate')\n",
        "dt_final.show()"
      ],
      "execution_count": null,
      "outputs": []
    },
    {
      "cell_type": "code",
      "metadata": {
        "id": "FRYXS2J7Mo5M"
      },
      "source": [
        "dt_final.printSchema()"
      ],
      "execution_count": null,
      "outputs": []
    },
    {
      "cell_type": "markdown",
      "metadata": {
        "id": "jNWeSFR0TqHt"
      },
      "source": [
        "## Data Cleansing with Spark"
      ]
    },
    {
      "cell_type": "markdown",
      "metadata": {
        "id": "NlewC3HjbMty"
      },
      "source": [
        "### Anomalies Check"
      ]
    },
    {
      "cell_type": "markdown",
      "metadata": {
        "id": "YQmzIi6c2Ugp"
      },
      "source": [
        "#### Syntactical Anomalies\n",
        "**Lexical errors** (wrong typing)"
      ]
    },
    {
      "cell_type": "code",
      "metadata": {
        "id": "htfmeHuZ2VPo"
      },
      "source": [
        "# Check country distinct values.\n",
        "dt_final.select(\"Country\").distinct().show()"
      ],
      "execution_count": null,
      "outputs": []
    },
    {
      "cell_type": "code",
      "metadata": {
        "id": "FSGUoi-eUl5U"
      },
      "source": [
        "dt_final.where(dt_final['Country'] == 'EIREs').show()"
      ],
      "execution_count": null,
      "outputs": []
    },
    {
      "cell_type": "code",
      "metadata": {
        "id": "03YDBKivjIfh"
      },
      "source": [
        "# Modify an error name\n",
        "from pyspark.sql.functions import when\n",
        "\n",
        "dt_temp_eire = dt_final.withColumn(\"CountryUpdate\", when(dt_final['Country'] == 'EIREs', 'EIRE').otherwise(dt_final['Country']))"
      ],
      "execution_count": null,
      "outputs": []
    },
    {
      "cell_type": "code",
      "metadata": {
        "id": "aHp2xBfIknNx"
      },
      "source": [
        "# Check the result\n",
        "dt_temp_eire.select(\"CountryUpdate\").distinct().show()"
      ],
      "execution_count": null,
      "outputs": []
    },
    {
      "cell_type": "code",
      "metadata": {
        "id": "EXspKbmMlDEA"
      },
      "source": [
        "# Create final Dataframe\n",
        "dt_final_eire = dt_temp_eire.drop(\"Country\").withColumnRenamed('CountryUpdate', 'Country')"
      ],
      "execution_count": null,
      "outputs": []
    },
    {
      "cell_type": "code",
      "metadata": {
        "id": "jakWvW6EVdcv"
      },
      "source": [
        "dt_final_eire.show()"
      ],
      "execution_count": null,
      "outputs": []
    },
    {
      "cell_type": "markdown",
      "metadata": {
        "id": "-kyrqLYF2YjO"
      },
      "source": [
        "#### Semantic Anomalies\n",
        "\n",
        "**Integrity constraints**"
      ]
    },
    {
      "cell_type": "code",
      "metadata": {
        "id": "Iasmydx2TEYG"
      },
      "source": [
        "dt_final_eire.select(\"Stockcode\").show(100)"
      ],
      "execution_count": null,
      "outputs": []
    },
    {
      "cell_type": "code",
      "metadata": {
        "id": "ZVtj_wvpsdn4"
      },
      "source": [
        "dt_final_eire.count()"
      ],
      "execution_count": null,
      "outputs": []
    },
    {
      "cell_type": "code",
      "metadata": {
        "id": "i3H6sWVsrSn-"
      },
      "source": [
        "dt_final_eire.filter(dt_final_eire[\"Stockcode\"].rlike(\"^[0-9]{5}$\")).count()"
      ],
      "execution_count": null,
      "outputs": []
    },
    {
      "cell_type": "code",
      "metadata": {
        "id": "pnUrouqasixk"
      },
      "source": [
        "# Check data\n",
        "dt_final_eire.filter(dt_final_eire[\"Stockcode\"].rlike(\"^[0-9]{5}$\")).show(5)"
      ],
      "execution_count": null,
      "outputs": []
    },
    {
      "cell_type": "code",
      "metadata": {
        "id": "5tE-VcSQXWzp"
      },
      "source": [
        "# check incorrect data\n",
        "dt_correct_stockcode = dt_final_eire.filter(dt_final_eire[\"Stockcode\"].rlike(\"^[0-9]{5}$\"))\n",
        "dt_incorrect_stockcode = dt_final_eire.subtract(dt_correct_stockcode)\n",
        "\n",
        "dt_incorrect_stockcode.show(10)"
      ],
      "execution_count": null,
      "outputs": []
    },
    {
      "cell_type": "markdown",
      "metadata": {
        "id": "38ekkpo7XyDG"
      },
      "source": [
        "> Finding incorrect Pattern of Stock Code"
      ]
    },
    {
      "cell_type": "code",
      "metadata": {
        "id": "g2SAQYLuuKgX"
      },
      "source": [
        "# remove the last string from stock code #  ,r'[A-Z]', '')  find A-Z replace with \" \" (blank)\n",
        "from pyspark.sql.functions import regexp_replace\n",
        "\n",
        "dt_temp_stockcode = dt_final_eire.withColumn(\"StockcodeUpdate\", regexp_replace(dt_final_eire['Stockcode'], r'[A-Z]', ''))"
      ],
      "execution_count": null,
      "outputs": []
    },
    {
      "cell_type": "code",
      "metadata": {
        "id": "2Ko7m6mbwJJj"
      },
      "source": [
        "# Check the result\n",
        "dt_temp_stockcode.show()"
      ],
      "execution_count": null,
      "outputs": []
    },
    {
      "cell_type": "code",
      "metadata": {
        "id": "m6LoL8etxNSO"
      },
      "source": [
        "# Create final Dataframe\n",
        "dt_final_stockcode = dt_temp_stockcode.drop(\"Stockcode\").withColumnRenamed('StockcodeUpdate', 'StockCode')"
      ],
      "execution_count": null,
      "outputs": []
    },
    {
      "cell_type": "code",
      "metadata": {
        "id": "KIcBie-jcAaC"
      },
      "source": [
        "dt_final_stockcode.show(4)"
      ],
      "execution_count": null,
      "outputs": []
    },
    {
      "cell_type": "markdown",
      "metadata": {
        "id": "4kCf3LsX2b8L"
      },
      "source": [
        "#### Missing values\n",
        "\n",
        "Check Missing Values"
      ]
    },
    {
      "cell_type": "code",
      "metadata": {
        "id": "T11c7iUs24Cu"
      },
      "source": [
        "# Check missing values in each column\n",
        "# (*[sum(col(c).isNull().cast(\"int\")).alias(c)  find sum() of column\"c\" Count null value with True,False  and change to \"int\" \n",
        "from pyspark.sql.functions import col,sum\n",
        "\n",
        "dt_final_stockcode.select(*[sum(col(c).isNull().cast(\"int\")).alias(c) for c in dt_final_stockcode.columns]).show()"
      ],
      "execution_count": null,
      "outputs": []
    },
    {
      "cell_type": "code",
      "metadata": {
        "id": "KUSOqJ4p0E2W"
      },
      "source": [
        "# Check which row of 'Description' = null.\n",
        "\n",
        "dt_final_stockcode.where( dt_final_stockcode['Description'].isNull() ).show()"
      ],
      "execution_count": null,
      "outputs": []
    },
    {
      "cell_type": "code",
      "metadata": {
        "id": "8Bi3ql4PzXae"
      },
      "source": [
        "# Check which row of \"customerID\" = null.\n",
        "\n",
        "dt_final_stockcode.where( dt_final_stockcode['customerID'].isNull() ).show()"
      ],
      "execution_count": null,
      "outputs": []
    },
    {
      "cell_type": "markdown",
      "metadata": {
        "id": "Xp3uwpf-Ty8Y"
      },
      "source": [
        "### Use Case:\n",
        "Data Analyst would like to replace \"Customer ID\"'s NULL to -1"
      ]
    },
    {
      "cell_type": "code",
      "metadata": {
        "id": "wnwxPdTHTyS5",
        "colab": {
          "base_uri": "https://localhost:8080/"
        },
        "outputId": "2aaf09e1-253e-4357-ef24-7f73f1576060"
      },
      "source": [
        "# Write code here\n",
        "dt_customer_notnull = dt_final_stockcode.withColumn(\"CustomerIDUpdate\", when(dt_final_stockcode['customerID'].isNull(),  -1).otherwise(dt_final_stockcode['customerID']))\n",
        "dt_customer_notnull.show()"
      ],
      "execution_count": null,
      "outputs": [
        {
          "output_type": "stream",
          "text": [
            "+---------+--------------------+--------+---------+----------+-------------------+--------------+---------+----------------+\n",
            "|InvoiceNo|         Description|Quantity|UnitPrice|CustomerID|    InvoiceDateTime|       Country|StockCode|CustomerIDUpdate|\n",
            "+---------+--------------------+--------+---------+----------+-------------------+--------------+---------+----------------+\n",
            "|   536365|WHITE HANGING HEA...|       6|     2.55|   17850.0|2018-12-01 08:26:00|United Kingdom|    85123|         17850.0|\n",
            "|   536365| WHITE METAL LANTERN|       6|     3.39|   17850.0|2018-12-01 08:26:00|United Kingdom|    71053|         17850.0|\n",
            "|   536365|CREAM CUPID HEART...|       8|     2.75|   17850.0|2018-12-01 08:26:00|United Kingdom|    84406|         17850.0|\n",
            "|   536365|KNITTED UNION FLA...|       6|     3.39|   17850.0|2018-12-01 08:26:00|United Kingdom|    84029|         17850.0|\n",
            "|   536365|RED WOOLLY HOTTIE...|       6|     3.39|   17850.0|2018-12-01 08:26:00|United Kingdom|    84029|         17850.0|\n",
            "|   536365|SET 7 BABUSHKA NE...|       2|     7.65|   17850.0|2018-12-01 08:26:00|United Kingdom|    22752|         17850.0|\n",
            "|   536365|GLASS STAR FROSTE...|       6|     4.25|   17850.0|2018-12-01 08:26:00|United Kingdom|    21730|         17850.0|\n",
            "|   536366|HAND WARMER UNION...|       6|     1.85|   17850.0|2018-12-01 08:28:00|United Kingdom|    22633|         17850.0|\n",
            "|   536366|HAND WARMER RED P...|       6|     1.85|   17850.0|2018-12-01 08:28:00|United Kingdom|    22632|         17850.0|\n",
            "|   536367|ASSORTED COLOUR B...|      32|     1.69|   13047.0|2018-12-01 08:34:00|United Kingdom|    84879|         13047.0|\n",
            "|   536367|POPPY'S PLAYHOUSE...|       6|      2.1|   13047.0|2018-12-01 08:34:00|United Kingdom|    22745|         13047.0|\n",
            "|   536367|POPPY'S PLAYHOUSE...|       6|      2.1|   13047.0|2018-12-01 08:34:00|United Kingdom|    22748|         13047.0|\n",
            "|   536367|FELTCRAFT PRINCES...|       8|     3.75|   13047.0|2018-12-01 08:34:00|United Kingdom|    22749|         13047.0|\n",
            "|   536367|IVORY KNITTED MUG...|       6|     1.65|   13047.0|2018-12-01 08:34:00|United Kingdom|    22310|         13047.0|\n",
            "|   536367|BOX OF 6 ASSORTED...|       6|     4.25|   13047.0|2018-12-01 08:34:00|United Kingdom|    84969|         13047.0|\n",
            "|   536367|BOX OF VINTAGE JI...|       3|     4.95|   13047.0|2018-12-01 08:34:00|United Kingdom|    22623|         13047.0|\n",
            "|   536367|BOX OF VINTAGE AL...|       2|     9.95|   13047.0|2018-12-01 08:34:00|United Kingdom|    22622|         13047.0|\n",
            "|   536367|HOME BUILDING BLO...|       3|     5.95|   13047.0|2018-12-01 08:34:00|United Kingdom|    21754|         13047.0|\n",
            "|   536367|LOVE BUILDING BLO...|       3|     5.95|   13047.0|2018-12-01 08:34:00|United Kingdom|    21755|         13047.0|\n",
            "|   536367|RECIPE BOX WITH M...|       4|     7.95|   13047.0|2018-12-01 08:34:00|United Kingdom|    21777|         13047.0|\n",
            "+---------+--------------------+--------+---------+----------+-------------------+--------------+---------+----------------+\n",
            "only showing top 20 rows\n",
            "\n"
          ],
          "name": "stdout"
        }
      ]
    },
    {
      "cell_type": "markdown",
      "metadata": {
        "id": "a5DtVcoRUsFp"
      },
      "source": [
        "### Clean data with Spark SQL\n",
        "\n",
        "\n",
        "Value of `unitPrice` , `Quantity` is Corrected (> 0)"
      ]
    },
    {
      "cell_type": "code",
      "metadata": {
        "id": "KMwaNBsSuygq",
        "colab": {
          "base_uri": "https://localhost:8080/"
        },
        "outputId": "4c3f90f0-ad1b-4e22-b139-2b4d2be19607"
      },
      "source": [
        "dt_final_stockcode.createOrReplaceTempView(\"sales\")\n",
        "dt_sql = spark.sql(\"SELECT * FROM sales\")\n",
        "dt_sql.show()"
      ],
      "execution_count": null,
      "outputs": [
        {
          "output_type": "stream",
          "text": [
            "+---------+--------------------+--------+---------+----------+-------------------+--------------+---------+\n",
            "|InvoiceNo|         Description|Quantity|UnitPrice|CustomerID|    InvoiceDateTime|       Country|StockCode|\n",
            "+---------+--------------------+--------+---------+----------+-------------------+--------------+---------+\n",
            "|   536365|WHITE HANGING HEA...|       6|     2.55|   17850.0|2018-12-01 08:26:00|United Kingdom|    85123|\n",
            "|   536365| WHITE METAL LANTERN|       6|     3.39|   17850.0|2018-12-01 08:26:00|United Kingdom|    71053|\n",
            "|   536365|CREAM CUPID HEART...|       8|     2.75|   17850.0|2018-12-01 08:26:00|United Kingdom|    84406|\n",
            "|   536365|KNITTED UNION FLA...|       6|     3.39|   17850.0|2018-12-01 08:26:00|United Kingdom|    84029|\n",
            "|   536365|RED WOOLLY HOTTIE...|       6|     3.39|   17850.0|2018-12-01 08:26:00|United Kingdom|    84029|\n",
            "|   536365|SET 7 BABUSHKA NE...|       2|     7.65|   17850.0|2018-12-01 08:26:00|United Kingdom|    22752|\n",
            "|   536365|GLASS STAR FROSTE...|       6|     4.25|   17850.0|2018-12-01 08:26:00|United Kingdom|    21730|\n",
            "|   536366|HAND WARMER UNION...|       6|     1.85|   17850.0|2018-12-01 08:28:00|United Kingdom|    22633|\n",
            "|   536366|HAND WARMER RED P...|       6|     1.85|   17850.0|2018-12-01 08:28:00|United Kingdom|    22632|\n",
            "|   536367|ASSORTED COLOUR B...|      32|     1.69|   13047.0|2018-12-01 08:34:00|United Kingdom|    84879|\n",
            "|   536367|POPPY'S PLAYHOUSE...|       6|      2.1|   13047.0|2018-12-01 08:34:00|United Kingdom|    22745|\n",
            "|   536367|POPPY'S PLAYHOUSE...|       6|      2.1|   13047.0|2018-12-01 08:34:00|United Kingdom|    22748|\n",
            "|   536367|FELTCRAFT PRINCES...|       8|     3.75|   13047.0|2018-12-01 08:34:00|United Kingdom|    22749|\n",
            "|   536367|IVORY KNITTED MUG...|       6|     1.65|   13047.0|2018-12-01 08:34:00|United Kingdom|    22310|\n",
            "|   536367|BOX OF 6 ASSORTED...|       6|     4.25|   13047.0|2018-12-01 08:34:00|United Kingdom|    84969|\n",
            "|   536367|BOX OF VINTAGE JI...|       3|     4.95|   13047.0|2018-12-01 08:34:00|United Kingdom|    22623|\n",
            "|   536367|BOX OF VINTAGE AL...|       2|     9.95|   13047.0|2018-12-01 08:34:00|United Kingdom|    22622|\n",
            "|   536367|HOME BUILDING BLO...|       3|     5.95|   13047.0|2018-12-01 08:34:00|United Kingdom|    21754|\n",
            "|   536367|LOVE BUILDING BLO...|       3|     5.95|   13047.0|2018-12-01 08:34:00|United Kingdom|    21755|\n",
            "|   536367|RECIPE BOX WITH M...|       4|     7.95|   13047.0|2018-12-01 08:34:00|United Kingdom|    21777|\n",
            "+---------+--------------------+--------+---------+----------+-------------------+--------------+---------+\n",
            "only showing top 20 rows\n",
            "\n"
          ],
          "name": "stdout"
        }
      ]
    },
    {
      "cell_type": "code",
      "metadata": {
        "id": "kQLzG7jz06vU",
        "colab": {
          "base_uri": "https://localhost:8080/"
        },
        "outputId": "3d121aea-4429-4bbc-e34d-c6a747edd86f"
      },
      "source": [
        "dt_sql_count = spark.sql(\"SELECT count(*) as cnt_row FROM sales\")\n",
        "dt_sql_count.show()"
      ],
      "execution_count": null,
      "outputs": [
        {
          "output_type": "stream",
          "text": [
            "+-------+\n",
            "|cnt_row|\n",
            "+-------+\n",
            "| 541909|\n",
            "+-------+\n",
            "\n"
          ],
          "name": "stdout"
        }
      ]
    },
    {
      "cell_type": "code",
      "metadata": {
        "id": "qFnsr05vYnOi",
        "colab": {
          "base_uri": "https://localhost:8080/"
        },
        "outputId": "5815305c-1a15-40a7-f0c6-a49d2b15cc5b"
      },
      "source": [
        "dt_sql_count = spark.sql(\"SELECT count(*) as cnt_row, country FROM sales GROUP BY Country ORDER BY cnt_row DESC\")\n",
        "dt_sql_count.show()"
      ],
      "execution_count": null,
      "outputs": [
        {
          "output_type": "stream",
          "text": [
            "+-------+---------------+\n",
            "|cnt_row|        country|\n",
            "+-------+---------------+\n",
            "| 495478| United Kingdom|\n",
            "|   9495|        Germany|\n",
            "|   8557|         France|\n",
            "|   8196|           EIRE|\n",
            "|   2533|          Spain|\n",
            "|   2371|    Netherlands|\n",
            "|   2069|        Belgium|\n",
            "|   2002|    Switzerland|\n",
            "|   1519|       Portugal|\n",
            "|   1259|      Australia|\n",
            "|   1086|         Norway|\n",
            "|    803|          Italy|\n",
            "|    758|Channel Islands|\n",
            "|    695|        Finland|\n",
            "|    622|         Cyprus|\n",
            "|    462|         Sweden|\n",
            "|    446|    Unspecified|\n",
            "|    401|        Austria|\n",
            "|    389|        Denmark|\n",
            "|    358|          Japan|\n",
            "+-------+---------------+\n",
            "only showing top 20 rows\n",
            "\n"
          ],
          "name": "stdout"
        }
      ]
    },
    {
      "cell_type": "code",
      "metadata": {
        "id": "o4coCNUH07yW",
        "colab": {
          "base_uri": "https://localhost:8080/"
        },
        "outputId": "0459a7fb-e381-4d17-9709-8fe1fa115375"
      },
      "source": [
        "dt_sql_valid_price = spark.sql(\"SELECT count(*) as cnt_row FROM sales WHERE UnitPrice > 0 AND Quantity > 0\")\n",
        "dt_sql_valid_price.show()"
      ],
      "execution_count": null,
      "outputs": [
        {
          "output_type": "stream",
          "text": [
            "+-------+\n",
            "|cnt_row|\n",
            "+-------+\n",
            "| 530104|\n",
            "+-------+\n",
            "\n"
          ],
          "name": "stdout"
        }
      ]
    },
    {
      "cell_type": "code",
      "metadata": {
        "id": "hETimL9n1OxF",
        "colab": {
          "base_uri": "https://localhost:8080/"
        },
        "outputId": "3c8302a0-c07f-461e-e5d5-a3e495a5185e"
      },
      "source": [
        "dt_sql_valid_price = spark.sql(\"SELECT * FROM sales WHERE UnitPrice > 0 AND Quantity > 0\")\n",
        "dt_sql_valid_price.show()"
      ],
      "execution_count": null,
      "outputs": [
        {
          "output_type": "stream",
          "text": [
            "+---------+--------------------+--------+---------+----------+-------------------+--------------+---------+\n",
            "|InvoiceNo|         Description|Quantity|UnitPrice|CustomerID|    InvoiceDateTime|       Country|StockCode|\n",
            "+---------+--------------------+--------+---------+----------+-------------------+--------------+---------+\n",
            "|   536365|WHITE HANGING HEA...|       6|     2.55|   17850.0|2018-12-01 08:26:00|United Kingdom|    85123|\n",
            "|   536365| WHITE METAL LANTERN|       6|     3.39|   17850.0|2018-12-01 08:26:00|United Kingdom|    71053|\n",
            "|   536365|CREAM CUPID HEART...|       8|     2.75|   17850.0|2018-12-01 08:26:00|United Kingdom|    84406|\n",
            "|   536365|KNITTED UNION FLA...|       6|     3.39|   17850.0|2018-12-01 08:26:00|United Kingdom|    84029|\n",
            "|   536365|RED WOOLLY HOTTIE...|       6|     3.39|   17850.0|2018-12-01 08:26:00|United Kingdom|    84029|\n",
            "|   536365|SET 7 BABUSHKA NE...|       2|     7.65|   17850.0|2018-12-01 08:26:00|United Kingdom|    22752|\n",
            "|   536365|GLASS STAR FROSTE...|       6|     4.25|   17850.0|2018-12-01 08:26:00|United Kingdom|    21730|\n",
            "|   536366|HAND WARMER UNION...|       6|     1.85|   17850.0|2018-12-01 08:28:00|United Kingdom|    22633|\n",
            "|   536366|HAND WARMER RED P...|       6|     1.85|   17850.0|2018-12-01 08:28:00|United Kingdom|    22632|\n",
            "|   536367|ASSORTED COLOUR B...|      32|     1.69|   13047.0|2018-12-01 08:34:00|United Kingdom|    84879|\n",
            "|   536367|POPPY'S PLAYHOUSE...|       6|      2.1|   13047.0|2018-12-01 08:34:00|United Kingdom|    22745|\n",
            "|   536367|POPPY'S PLAYHOUSE...|       6|      2.1|   13047.0|2018-12-01 08:34:00|United Kingdom|    22748|\n",
            "|   536367|FELTCRAFT PRINCES...|       8|     3.75|   13047.0|2018-12-01 08:34:00|United Kingdom|    22749|\n",
            "|   536367|IVORY KNITTED MUG...|       6|     1.65|   13047.0|2018-12-01 08:34:00|United Kingdom|    22310|\n",
            "|   536367|BOX OF 6 ASSORTED...|       6|     4.25|   13047.0|2018-12-01 08:34:00|United Kingdom|    84969|\n",
            "|   536367|BOX OF VINTAGE JI...|       3|     4.95|   13047.0|2018-12-01 08:34:00|United Kingdom|    22623|\n",
            "|   536367|BOX OF VINTAGE AL...|       2|     9.95|   13047.0|2018-12-01 08:34:00|United Kingdom|    22622|\n",
            "|   536367|HOME BUILDING BLO...|       3|     5.95|   13047.0|2018-12-01 08:34:00|United Kingdom|    21754|\n",
            "|   536367|LOVE BUILDING BLO...|       3|     5.95|   13047.0|2018-12-01 08:34:00|United Kingdom|    21755|\n",
            "|   536367|RECIPE BOX WITH M...|       4|     7.95|   13047.0|2018-12-01 08:34:00|United Kingdom|    21777|\n",
            "+---------+--------------------+--------+---------+----------+-------------------+--------------+---------+\n",
            "only showing top 20 rows\n",
            "\n"
          ],
          "name": "stdout"
        }
      ]
    },
    {
      "cell_type": "markdown",
      "metadata": {
        "id": "iv0YK6cFgSiB"
      },
      "source": [
        "### TODO: \n",
        "1.  Country USA which InvoiceDateTime from 2010-12-01  and UnitPrice > 3.5 \n",
        "2.  Country France which InvoiceDateTime from 2010-12-05 and UnitPrice  > 5.5 and Description with \"Box\""
      ]
    },
    {
      "cell_type": "code",
      "metadata": {
        "id": "2QHlrKnPgMRh",
        "colab": {
          "base_uri": "https://localhost:8080/"
        },
        "outputId": "6a95390d-f2a4-4471-edfe-7fb9cbfce544"
      },
      "source": [
        "# TODO: Country USA which InvoiceDateTime from 2010-12-01 and UnitPrice > 3.5\n",
        "dt_sql_valid_price = spark.sql(\"\"\"\n",
        "SELECT * FROM sales \n",
        "  WHERE UnitPrice > 3.5 \n",
        "  AND Country = 'USA' \n",
        "  AND InvoiceDateTime >= '2010-12-01'\n",
        "\"\"\")\n",
        "dt_sql_valid_price.show()"
      ],
      "execution_count": null,
      "outputs": [
        {
          "output_type": "stream",
          "text": [
            "+---------+--------------------+--------+---------+----------+-------------------+-------+---------+\n",
            "|InvoiceNo|         Description|Quantity|UnitPrice|CustomerID|    InvoiceDateTime|Country|StockCode|\n",
            "+---------+--------------------+--------+---------+----------+-------------------+-------+---------+\n",
            "|   550644|SET OF 6 SPICE TI...|       7|     3.95|   12733.0|2019-04-19 16:19:00|    USA|    22722|\n",
            "|   550644|SET OF 3 CAKE TIN...|       1|     4.95|   12733.0|2019-04-19 16:19:00|    USA|    22720|\n",
            "|   550644|PINK HAPPY BIRTHD...|       4|     5.45|   12733.0|2019-04-19 16:19:00|    USA|    47590|\n",
            "|   550644|COTTON APRON PANT...|       5|     4.95|   12733.0|2019-04-19 16:19:00|    USA|    22990|\n",
            "|   550644|REGENCY CAKESTAND...|       6|    12.75|   12733.0|2019-04-19 16:19:00|    USA|    22423|\n",
            "|   550644|TEA TIME TEA SET ...|       5|     6.95|   12733.0|2019-04-19 16:19:00|    USA|    37501|\n",
            "|   550644|TEA TIME TEAPOT I...|       4|     4.95|   12733.0|2019-04-19 16:19:00|    USA|    37500|\n",
            "|   570467|SET OF 6 SOLDIER ...|       4|     3.75|   12607.0|2019-10-10 16:06:00|    USA|    22619|\n",
            "|   570467|BAKING SET 9 PIEC...|       3|     4.95|   12607.0|2019-10-10 16:06:00|    USA|    22138|\n",
            "|   570467|DOORMAT SPOTTY HO...|       2|     8.25|   12607.0|2019-10-10 16:06:00|    USA|    21524|\n",
            "|   570467|BLUE HAPPY BIRTHD...|       3|     5.45|   12607.0|2019-10-10 16:06:00|    USA|    47590|\n",
            "|   570467|PINK HAPPY BIRTHD...|       3|     5.45|   12607.0|2019-10-10 16:06:00|    USA|    47590|\n",
            "|   570467|SET OF 4 ENGLISH ...|       4|     3.75|   12607.0|2019-10-10 16:06:00|    USA|    84509|\n",
            "|   570467|STRAWBERRY FAIRY ...|       8|     4.95|   12607.0|2019-10-10 16:06:00|    USA|    22649|\n",
            "|   570467|FRYING PAN RED RE...|       4|     4.25|   12607.0|2019-10-10 16:06:00|    USA|    22199|\n",
            "|   570467|BREAD BIN DINER S...|       1|    16.95|   12607.0|2019-10-10 16:06:00|    USA|    22848|\n",
            "|   570467|MILK PAN BLUE POL...|       4|     3.75|   12607.0|2019-10-10 16:06:00|    USA|    22204|\n",
            "|   570467|  DOORMAT FAIRY CAKE|       2|     8.25|   12607.0|2019-10-10 16:06:00|    USA|    48185|\n",
            "|   570467|RETROSPOT TEA SET...|       3|     4.95|   12607.0|2019-10-10 16:06:00|    USA|    22139|\n",
            "|   570467|SET OF 3 CAKE TIN...|       3|     4.95|   12607.0|2019-10-10 16:06:00|    USA|    22720|\n",
            "+---------+--------------------+--------+---------+----------+-------------------+-------+---------+\n",
            "only showing top 20 rows\n",
            "\n"
          ],
          "name": "stdout"
        }
      ]
    },
    {
      "cell_type": "code",
      "metadata": {
        "id": "cgCm2SiKgMP7",
        "colab": {
          "base_uri": "https://localhost:8080/"
        },
        "outputId": "1f3baf8e-0d89-4c03-f0d5-fec88b6d743e"
      },
      "source": [
        "# Country France which InvoiceDateTime from 2010-12-05 and UnitPrice > 5.5 and Description with \"Box\"\n",
        "dt_sql_valid_price = spark.sql(\"\"\"\n",
        "SELECT *  \n",
        "  FROM sales \n",
        "  WHERE UnitPrice >= 5.5 \n",
        "  AND InvoiceDateTime >= '2010-12-05' \n",
        "  And Country = 'France'\n",
        "  AND LOWER(Description) LIKE '%box%'\n",
        "\"\"\").show()"
      ],
      "execution_count": null,
      "outputs": [
        {
          "output_type": "stream",
          "text": [
            "+---------+--------------------+--------+---------+----------+-------------------+-------+---------+\n",
            "|InvoiceNo|         Description|Quantity|UnitPrice|CustomerID|    InvoiceDateTime|Country|StockCode|\n",
            "+---------+--------------------+--------+---------+----------+-------------------+-------+---------+\n",
            "|   537065|ROSE COTTAGE KEEP...|       8|      8.5|   12567.0|2018-12-05 11:57:00| France|    22968|\n",
            "|   537065|  TOOL BOX SOFT TOY |       6|     8.95|   12567.0|2018-12-05 11:57:00| France|    21055|\n",
            "|   537463|BOOM BOX SPEAKER ...|       4|     5.95|   12681.0|2018-12-07 10:08:00| France|    21064|\n",
            "|   537897|SET 7 BABUSHKA NE...|       2|      8.5|   12683.0|2018-12-09 10:37:00| France|    22752|\n",
            "|   539607|BOOM BOX SPEAKER ...|       4|     5.95|   12681.0|2018-12-20 14:10:00| France|    21065|\n",
            "|   540178|BOOM BOX SPEAKER ...|       2|     5.95|   12681.0|2019-01-05 12:42:00| France|    21064|\n",
            "|   540351|  TOOL BOX SOFT TOY |       1|     8.95|   12735.0|2019-01-06 14:26:00| France|    21055|\n",
            "|   540365|  TOOL BOX SOFT TOY |       3|     8.95|   12413.0|2019-01-06 16:12:00| France|    21055|\n",
            "|   542535|  TOOL BOX SOFT TOY |       5|     8.95|   12735.0|2019-01-28 13:37:00| France|    21055|\n",
            "|   542535|VICTORIAN SEWING ...|       2|     5.95|   12735.0|2019-01-28 13:37:00| France|    21259|\n",
            "|   542735|BOOM BOX SPEAKER ...|       2|     5.95|   12681.0|2019-01-31 15:36:00| France|    21064|\n",
            "|   545181|SET 7 BABUSHKA NE...|       4|      8.5|   12509.0|2019-02-28 14:45:00| France|    22752|\n",
            "|   552826|MARIE ANTOINETTE ...|       2|     12.5|   14277.0|2019-05-11 13:20:00| France|    23072|\n",
            "|   552826|MARIE ANTOINETTE ...|       2|     12.5|   14277.0|2019-05-11 13:20:00| France|    23071|\n",
            "|   552826|PARISIENNE SEWING...|       2|     12.5|   14277.0|2019-05-11 13:20:00| France|    23111|\n",
            "|   553566|PARISIENNE SEWING...|       4|     12.5|   12690.0|2019-05-18 09:09:00| France|    23111|\n",
            "|   556507|SET 7 BABUSHKA NE...|       6|      8.5|   12567.0|2019-06-13 09:55:00| France|    22752|\n",
            "|   562450|SET 7 BABUSHKA NE...|       6|      8.5|   12562.0|2019-08-05 08:40:00| France|    22752|\n",
            "|   563662|RED METAL BOX TOP...|       2|     8.25|   12729.0|2019-08-18 11:40:00| France|    23080|\n",
            "|   563926|BOX OF VINTAGE AL...|       2|    11.95|   12553.0|2019-08-21 14:42:00| France|    22622|\n",
            "+---------+--------------------+--------+---------+----------+-------------------+-------+---------+\n",
            "only showing top 20 rows\n",
            "\n"
          ],
          "name": "stdout"
        }
      ]
    },
    {
      "cell_type": "markdown",
      "metadata": {
        "id": "lu3WQ4g8UBra"
      },
      "source": [
        "## Save cleaned data to CSV"
      ]
    },
    {
      "cell_type": "code",
      "metadata": {
        "id": "w6ZMEZ-8UIEJ"
      },
      "source": [
        "# Write as partitioned files (use multiple workers)\n",
        "dt_sql_valid_price.write.csv('Cleaned_Data_Now_Final.csv')"
      ],
      "execution_count": null,
      "outputs": []
    },
    {
      "cell_type": "code",
      "metadata": {
        "id": "L_xj7NIbSv0w",
        "colab": {
          "base_uri": "https://localhost:8080/"
        },
        "outputId": "7f143fc2-a97c-41d4-df08-0f8877b152ca"
      },
      "source": [
        "# Read CSV file 1\n",
        "part1 = spark.read.csv('/content/Cleaned_Data_Now_Final.csv', header = True, inferSchema = True, )\n",
        "part1.count()"
      ],
      "execution_count": null,
      "outputs": [
        {
          "output_type": "execute_result",
          "data": {
            "text/plain": [
              "530102"
            ]
          },
          "metadata": {
            "tags": []
          },
          "execution_count": 141
        }
      ]
    },
    {
      "cell_type": "code",
      "metadata": {
        "id": "a_mj3koGS3Rn",
        "colab": {
          "base_uri": "https://localhost:8080/"
        },
        "outputId": "e96b77df-42d5-4616-8fd7-d79fd35cb94a"
      },
      "source": [
        "# Read CSV file 2\n",
        "part2 = spark.read.csv('/content/Cleaned_Data_Now_Final_Single.csv', header = True, inferSchema = True, )\n",
        "part2.count()"
      ],
      "execution_count": null,
      "outputs": [
        {
          "output_type": "execute_result",
          "data": {
            "text/plain": [
              "530103"
            ]
          },
          "metadata": {
            "tags": []
          },
          "execution_count": 142
        }
      ]
    },
    {
      "cell_type": "code",
      "metadata": {
        "id": "AzMterYlWA5X"
      },
      "source": [
        "# Write as 1 file (use single worker)\n",
        "dt_sql_valid_price.coalesce(1).write.csv('Cleaned_Data_Now_Final_Single.csv')"
      ],
      "execution_count": null,
      "outputs": []
    },
    {
      "cell_type": "code",
      "metadata": {
        "colab": {
          "base_uri": "https://localhost:8080/"
        },
        "id": "FRywWgbSbBY6",
        "outputId": "82a3302c-c6b2-4d6c-9353-d014b559e44e"
      },
      "source": [
        "dt_sql_valid_price.count()"
      ],
      "execution_count": null,
      "outputs": [
        {
          "output_type": "execute_result",
          "data": {
            "text/plain": [
              "530104"
            ]
          },
          "metadata": {
            "tags": []
          },
          "execution_count": 161
        }
      ]
    },
    {
      "cell_type": "code",
      "metadata": {
        "id": "AJN1WjglaKK4"
      },
      "source": [
        "# Read CSV file \n",
        "dt = spark.read.csv('/content/Cleaned_Data_Now_Final.csv/part-*.csv', header = True, inferSchema = True, )\n"
      ],
      "execution_count": null,
      "outputs": []
    },
    {
      "cell_type": "code",
      "metadata": {
        "colab": {
          "base_uri": "https://localhost:8080/"
        },
        "id": "VwQ3wm52dEum",
        "outputId": "0f26522f-2e85-43c8-bc3d-84950b5fc77c"
      },
      "source": [
        "dt.count()"
      ],
      "execution_count": null,
      "outputs": [
        {
          "output_type": "execute_result",
          "data": {
            "text/plain": [
              "530102"
            ]
          },
          "metadata": {
            "tags": []
          },
          "execution_count": 162
        }
      ]
    }
  ]
}